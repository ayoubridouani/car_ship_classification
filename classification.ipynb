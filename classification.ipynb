{
 "cells": [
  {
   "cell_type": "code",
   "execution_count": 1,
   "metadata": {},
   "outputs": [],
   "source": [
    "from os import listdir\n",
    "from matplotlib.pyplot import imread,imshow,figure,show\n",
    "from skimage.color import rgb2hsv\n",
    "from skimage.color import rgb2gray\n",
    "import numpy as np\n",
    "from skimage import feature as sk_feature\n",
    "from scipy.spatial.distance import euclidean\n",
    "import operator"
   ]
  },
  {
   "cell_type": "code",
   "execution_count": 2,
   "metadata": {},
   "outputs": [],
   "source": [
    "def color_features(image):\n",
    "    hsv = rgb2hsv(imread(image))\n",
    "    R = hsv[:,:,0]\n",
    "    G = hsv[:,:,1]\n",
    "    B = hsv[:,:,2]\n",
    "    feature = [np.mean(R[:]),np.std(R[:]),np.mean(G[:]),np.std(G[:]),np.mean(B[:]),np.std(B[:])]\n",
    "    return feature\n",
    "\n",
    "# feature = color_features(\"dataset/382001.jpg\")\n",
    "# print(feature)"
   ]
  },
  {
   "cell_type": "code",
   "execution_count": 3,
   "metadata": {},
   "outputs": [],
   "source": [
    "def histogram_features(image):\n",
    "    hsv = rgb2hsv(imread(image))\n",
    "    h = hsv[:,:,0]\n",
    "    s = hsv[:,:,1]\n",
    "    v = hsv[:,:,2]\n",
    "\n",
    "    feature = np.zeros((8,2,2))\n",
    "\n",
    "    h_max = h.max()\n",
    "    s_max = s.max()\n",
    "    v_max = v.max()\n",
    "\n",
    "    h_quantized = np.ceil((8 * h)/h_max);\n",
    "    s_quantized = np.ceil((2 * s)/s_max);\n",
    "    v_quantized = np.ceil((2 * v)/v_max);\n",
    "    \n",
    "    dimensions = hsv.shape\n",
    "    \n",
    "    index = np.zeros((dimensions[0]*dimensions[1],3))\n",
    "    index[:,0] = h_quantized.T.flatten()\n",
    "    index[:,1] = s_quantized.T.flatten()\n",
    "    index[:,2] = v_quantized.T.flatten()\n",
    "\n",
    "    for row in range(0,dimensions[0]*dimensions[1]):\n",
    "        if(index[row][0]==0 or index[row][1]==0 or index[row][2]==0):\n",
    "            continue\n",
    "        feature[int(index[row][0])-1][int(index[row][1])-1][int(index[row][2])-1]=feature[int(index[row][0])-1][int(index[row][1])-1][int(index[row][2])-1]+1\n",
    "\n",
    "    return feature.flatten().tolist()\n",
    "\n",
    "# feature = histogram_features(\"dataset/382001.jpg\")\n",
    "# print(feature"
   ]
  },
  {
   "cell_type": "code",
   "execution_count": 4,
   "metadata": {},
   "outputs": [],
   "source": [
    "def texture_features(image):\n",
    "    image = np.array(rgb2gray(imread(image)), int)\n",
    "    \n",
    "    glcm = sk_feature.greycomatrix(image,distances=[0,1], angles=[0, np.pi/4, np.pi/2, 3*np.pi/4],levels=255 , symmetric=True, normed=True)\n",
    "    \n",
    "    feature = np.concatenate((sk_feature.greycoprops(glcm, 'contrast'),sk_feature.greycoprops(glcm, 'correlation'),sk_feature.greycoprops(glcm, 'energy'),sk_feature.greycoprops(glcm, 'homogeneity')))\n",
    "    feature = feature/np.sum(feature)\n",
    "    \n",
    "    return feature.flatten().tolist()\n",
    "\n",
    "# feature = texture_features(\"dataset/382001.jpg\")\n",
    "# print(feature)"
   ]
  },
  {
   "cell_type": "code",
   "execution_count": 5,
   "metadata": {},
   "outputs": [],
   "source": [
    "def getFeatures(path,fsize):\n",
    "    features = []\n",
    "    etats = []\n",
    "    \n",
    "    dirs = listdir(path)\n",
    "    for _dir in dirs:\n",
    "        images = listdir(path + \"/\" + _dir)\n",
    "        for image in images:\n",
    "            feature = []\n",
    "            if fsize >= 6:\n",
    "                color_feature = color_features(path + \"/\" + _dir + \"/\" +  image)\n",
    "                feature += color_feature\n",
    "            if fsize >= 32:\n",
    "                histogram_feature = histogram_features(path + \"/\" + _dir + \"/\" +  image)\n",
    "                feature += histogram_feature\n",
    "            if fsize >= 36:\n",
    "                texture_feature = texture_features(path + \"/\" + _dir + \"/\" +  image)\n",
    "                feature += texture_feature\n",
    "            features.append(feature)\n",
    "            etats.append(_dir)\n",
    "            \n",
    "    return features,etats \n",
    "    \n",
    "# feature = getFeatures(\"DB2C\",32)\n",
    "# print(feature)"
   ]
  },
  {
   "cell_type": "code",
   "execution_count": 6,
   "metadata": {},
   "outputs": [
    {
     "name": "stdout",
     "output_type": "stream",
     "text": [
      "taux de précision:  0.8367346938775511\n"
     ]
    }
   ],
   "source": [
    "from sklearn import svm\n",
    "from sklearn.model_selection import train_test_split\n",
    "import random\n",
    "\n",
    "fsize = 32\n",
    "path = \"DB2C\"\n",
    "\n",
    "features,etats = getFeatures(path,fsize)\n",
    "\n",
    "(trainFeat, testFeat, trainEtat, testEtat) = train_test_split(np.array(features), np.array(etats), test_size=0.1, random_state=random.seed())\n",
    "clf = svm.SVC(gamma=0.01, C=100)\n",
    "clf.fit(trainFeat,trainEtat)\n",
    "print(\"taux de précision: \",clf.score(testFeat,testEtat))"
   ]
  },
  {
   "cell_type": "code",
   "execution_count": 7,
   "metadata": {},
   "outputs": [
    {
     "name": "stdout",
     "output_type": "stream",
     "text": [
      "taux de précision:  0.8367346938775511\n"
     ]
    }
   ],
   "source": [
    "from sklearn import tree\n",
    "\n",
    "features,etats = getFeatures(path,fsize)\n",
    "\n",
    "clf=tree.DecisionTreeClassifier()\n",
    "(trainFeat, testFeat, trainEtat, testEtat) = train_test_split(np.array(features), np.array(etats), test_size=0.1, random_state=random.seed())\n",
    "clf.fit(trainFeat,trainEtat)\n",
    "print(\"taux de précision: \",clf.score(testFeat,testEtat))"
   ]
  },
  {
   "cell_type": "code",
   "execution_count": 8,
   "metadata": {},
   "outputs": [
    {
     "name": "stdout",
     "output_type": "stream",
     "text": [
      "DataToPredict/535091.jpg ['obj_ship']\n"
     ]
    }
   ],
   "source": [
    "def prediction(image,fsize):\n",
    "        feature = []\n",
    "        if fsize >= 6:\n",
    "            color_feature = color_features(image)\n",
    "            feature += color_feature\n",
    "        if fsize >= 32:\n",
    "            histogram_feature = histogram_features(image)\n",
    "            feature += histogram_feature\n",
    "        if fsize >= 36:\n",
    "            texture_feature = texture_features(image)\n",
    "            feature += texture_feature\n",
    "\n",
    "        print(image,clf.predict([feature]))\n",
    "        \n",
    "prediction(\"DataToPredict/535091.jpg\",32)"
   ]
  }
 ],
 "metadata": {
  "kernelspec": {
   "display_name": "Python 3",
   "language": "python",
   "name": "python3"
  },
  "language_info": {
   "codemirror_mode": {
    "name": "ipython",
    "version": 3
   },
   "file_extension": ".py",
   "mimetype": "text/x-python",
   "name": "python",
   "nbconvert_exporter": "python",
   "pygments_lexer": "ipython3",
   "version": "3.7.4"
  }
 },
 "nbformat": 4,
 "nbformat_minor": 2
}
