{
 "cells": [
  {
   "cell_type": "code",
   "execution_count": 1,
   "metadata": {},
   "outputs": [],
   "source": [
    "from matplotlib import pyplot as plt\n",
    "from matplotlib.pyplot import imread\n",
    "import os \n",
    "import numpy as np\n",
    "from skimage.color import rgb2hsv\n",
    "import math\n",
    "from skimage import feature, io"
   ]
  },
  {
   "cell_type": "code",
   "execution_count": 2,
   "metadata": {},
   "outputs": [],
   "source": [
    "def rgb2gray(rgb):\n",
    "    r, g, b = rgb[:,:,0], rgb[:,:,1], rgb[:,:,2]\n",
    "    gray = 0.2989 * r + 0.5870 * g + 0.1140 * b\n",
    "    return gray\n",
    "\n",
    "def textureFeatures(img):\n",
    "    img=np.array(rgb2gray(img), int)\n",
    "    glcm=feature.greycomatrix(img,distances=[0,1], angles=[0, np.pi/4, np.pi/2, 3*np.pi/4],levels=255 , symmetric=True, normed=True)\n",
    "    texture_features=np.concatenate((feature.greycoprops(glcm, 'contrast'),feature.greycoprops(glcm, 'correlation'),feature.greycoprops(glcm, 'energy'),feature.greycoprops(glcm, 'homogeneity')))\n",
    "    texture_features=texture_features/np.sum(texture_features)\n",
    "    return texture_features\n",
    "\n",
    "# a=imread(\"DataToPredict/535099.jpg\")\n",
    "# print(textureFeatures(a).flatten())\n",
    "# help(feature.greycoprops)"
   ]
  },
  {
   "cell_type": "code",
   "execution_count": 3,
   "metadata": {},
   "outputs": [],
   "source": [
    "def hsvHistogramFeatures(img):\n",
    "    [rows,cols,numOfBands]=img.shape\n",
    "    \n",
    "    numberOfLevelsForH = 8; # 8 niveau pour h\n",
    "    numberOfLevelsForS = 2; # 2 niveau pour s\n",
    "    numberOfLevelsForV = 2; # 2 niveau pour v\n",
    "    \n",
    "    img=rgb2hsv(img)\n",
    "    h=img[:,:,0]\n",
    "    s=img[:,:,1]\n",
    "    v=img[:,:,2]\n",
    "    maxValueForH=h.max()\n",
    "    maxValueForS=s.max()\n",
    "    maxValueForV=v.max()\n",
    "    hsvColor_Histogram=np.zeros((8,2,2))\n",
    "    \n",
    "    quantizedValueForH= np.ceil((numberOfLevelsForH * h)/maxValueForH);\n",
    "    quantizedValueForS= np.ceil((numberOfLevelsForS * s)/maxValueForS);\n",
    "    quantizedValueForV= np.ceil((numberOfLevelsForV * v)/maxValueForV);\n",
    "    index=np.zeros((rows*cols,3))\n",
    "    index[:,0]=quantizedValueForH.T.reshape(1,-1)\n",
    "    index[:,1]=quantizedValueForS.T.reshape(1,-1)\n",
    "    index[:,2]=quantizedValueForV.T.reshape(1,-1)\n",
    "\n",
    "    for row in range(0,index.shape[0]):\n",
    "        if(index[row][0]==0 or index[row][1]==0 or index[row][2]==0):\n",
    "            continue\n",
    "        hsvColor_Histogram[int(index[row][0])-1][int(index[row][1])-1][int(index[row][2])-1]=hsvColor_Histogram[int(index[row][0])-1][int(index[row][1])-1][int(index[row][2])-1]+1\n",
    "     \n",
    "    hsvColor_Histogram=hsvColor_Histogram.T\n",
    "    hsvColor_Histogram=hsvColor_Histogram/np.sum(hsvColor_Histogram)\n",
    "    return hsvColor_Histogram\n",
    "\n",
    "# a=imread('DataToPredict/535099.jpg')\n",
    "# print(hsvHistogramFeatures(a).flatten())\n",
    "# print(list(hsvHistogramFeatures(a).reshape(1,-1)))"
   ]
  },
  {
   "cell_type": "code",
   "execution_count": 4,
   "metadata": {},
   "outputs": [],
   "source": [
    "def color_Moments(img):\n",
    "    img=rgb2hsv(img)\n",
    "    \n",
    "    R=img[:,:,0]\n",
    "    G=img[:,:,1]\n",
    "    B=img[:,:,2]\n",
    "    \n",
    "    colorFeatures=[np.mean(R[:]),np.std(R[:]),np.mean(G[:]),np.std(G[:]),np.mean(B[:]),np.std(B[:])]\n",
    "    colorFeatures=colorFeatures/np.mean(colorFeatures)\n",
    "    return colorFeatures\n",
    "          \n",
    "#a=imread(\"DataToPredict/535099.jpg\")\n",
    "#color_Moments(a)"
   ]
  },
  {
   "cell_type": "code",
   "execution_count": 5,
   "metadata": {},
   "outputs": [],
   "source": [
    "def getFeatures(img,fsize):\n",
    "    features=np.zeros((fsize-1,1))\n",
    "    features=color_Moments(img)\n",
    "    features=np.concatenate((features,hsvHistogramFeatures(img).flatten()))#,textureFeatures(img).flatten()\n",
    "    return features\n",
    "\n",
    "# img=imread('DataToPredict/535099.jpg')\n",
    "# print(getFeatures(img,50).shape)"
   ]
  },
  {
   "cell_type": "code",
   "execution_count": 6,
   "metadata": {},
   "outputs": [],
   "source": [
    "def createFeatures(fold):\n",
    "    features=np.zeros((490,38))\n",
    "    etat=[]\n",
    "    list=os.listdir(fold)\n",
    "    k=0\n",
    "    for i in range(0,len(list)):\n",
    "        if(os.path.isdir(fold+\"/\"+list[i])):\n",
    "            sub=os.listdir(fold+\"/\"+list[i])\n",
    "            for j in range(0,len(sub)):\n",
    "                etat.append(list[i])\n",
    "                IDB=imread(fold+\"/\"+list[i]+\"/\"+sub[j])\n",
    "                features[k][:]=getFeatures(IDB,38)\n",
    "                k=k+1\n",
    "    return etat,features\n",
    "\n",
    "e,f=createFeatures('DB2C')"
   ]
  },
  {
   "cell_type": "code",
   "execution_count": 7,
   "metadata": {},
   "outputs": [
    {
     "name": "stdout",
     "output_type": "stream",
     "text": [
      "scope estime du classifieur appris 0.8979591836734694\n",
      "521079.jpg ['obj_car']\n",
      "447063.jpg ['obj_car']\n",
      "521022.jpg ['obj_car']\n",
      "535095.jpg ['obj_car']\n",
      "535091.jpg ['obj_ship']\n",
      "447012.jpg ['obj_car']\n",
      "535015.jpg ['obj_ship']\n",
      "521090.jpg ['obj_car']\n",
      "535010.jpg ['obj_car']\n",
      "535031.jpg ['obj_ship']\n",
      "535099.jpg ['obj_car']\n",
      "29055.jpg ['obj_car']\n",
      "535000.jpg ['obj_ship']\n",
      "535082.jpg ['obj_ship']\n",
      "29011.jpg ['obj_car']\n",
      "354001.jpg ['obj_car']\n",
      "535041.jpg ['obj_ship']\n",
      "29013.jpg ['obj_car']\n",
      "354053.jpg ['obj_car']\n",
      "535078.jpg ['obj_car']\n"
     ]
    }
   ],
   "source": [
    "from sklearn.model_selection import train_test_split\n",
    "import random\n",
    "from sklearn import tree\n",
    "from sklearn import datasets\n",
    "import csv\n",
    "clf=tree.DecisionTreeClassifier()\n",
    "features = np.array(f)\n",
    "etats = np.array(e)\n",
    "(trainFeat, testFeat, trainEtat, testEtat) = train_test_split(features, etats, test_size=0.1, random_state=random.seed())\n",
    "clf.fit(trainFeat,trainEtat)\n",
    "print(\"scope estime du classifieur appris\",clf.score(testFeat,testEtat))\n",
    "def Prediction(path):\n",
    "    list=os.listdir(path)\n",
    "    for i in range(0,len(list)):\n",
    "        IPB=imread(path+\"/\"+list[i])\n",
    "        features=getFeatures(IPB,38)\n",
    "        with open('Prediction.csv', mode='a') as file:\n",
    "            writer = csv.writer(file, delimiter=',', quotechar='\"', quoting=csv.QUOTE_MINIMAL)\n",
    "            writer.writerow([list[i], clf.predict([features])])\n",
    "        print(list[i],clf.predict([features]))\n",
    "        \n",
    "Prediction(\"DataToPredict\")"
   ]
  },
  {
   "cell_type": "code",
   "execution_count": 8,
   "metadata": {},
   "outputs": [
    {
     "name": "stdout",
     "output_type": "stream",
     "text": [
      "taux de précision 0.9795918367346939\n"
     ]
    }
   ],
   "source": [
    "from sklearn import svm\n",
    "(trainFeat, testFeat, trainEtat, testEtat) = train_test_split(features, etats, train_size=0.9, test_size=0.1,random_state=random.seed())\n",
    "clf = svm.SVC(gamma=0.01, C=100)\n",
    "clf.fit(trainFeat,trainEtat)#entrainemant de clf sur l'échantillon d'apprentissage\n",
    "print(\"taux de précision\",clf.score(testFeat,testEtat))"
   ]
  }
 ],
 "metadata": {
  "kernelspec": {
   "display_name": "Python 3",
   "language": "python",
   "name": "python3"
  },
  "language_info": {
   "codemirror_mode": {
    "name": "ipython",
    "version": 3
   },
   "file_extension": ".py",
   "mimetype": "text/x-python",
   "name": "python",
   "nbconvert_exporter": "python",
   "pygments_lexer": "ipython3",
   "version": "3.7.4"
  }
 },
 "nbformat": 4,
 "nbformat_minor": 2
}
